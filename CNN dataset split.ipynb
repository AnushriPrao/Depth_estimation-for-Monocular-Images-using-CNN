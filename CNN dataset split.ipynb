{
 "cells": [
  {
   "cell_type": "code",
   "execution_count": 2,
   "metadata": {},
   "outputs": [],
   "source": [
    "import os\n",
    "import shutil\n",
    "\n",
    "\n",
    "\n",
    "#original dataset path where it is uncompressed\n",
    "original_dataset_dir = '/Users/Enigma/Desktop/Thesis/Depth_Estimation/images'\n",
    "\n",
    "\n",
    "#the directory where we want to store the split dataset\n",
    "base_dir = '/Users/Enigma/Desktop/Thesis/Depth_Estimation/Trial'\n",
    "os.mkdir(base_dir)\n",
    "\n",
    "#Directories for our train, test and validation splits\n",
    "train_dir = os.path.join(base_dir, 'train')\n",
    "os.mkdir(train_dir)\n",
    "\n",
    "test_dir = os.path.join(base_dir, 'test')\n",
    "os.mkdir(test_dir)\n",
    "\n",
    "validation_dir = os.path.join(base_dir, 'validation')\n",
    "os.mkdir(validation_dir)\n",
    "\n",
    "#directories with our training images\n",
    "train_images = os.path.join(train_dir,'training')\n",
    "os.mkdir(train_images)\n",
    "\n",
    "#directories for our testing images\n",
    "test_images = os.path.join(test_dir,'testing')\n",
    "os.mkdir(test_images)\n",
    "\n",
    "#directories for our validation images\n",
    "validate_images = os.path.join(validation_dir,'validate')\n",
    "os.mkdir(validate_images)\n",
    "\n",
    "\n",
    "\n",
    "\n",
    "\n"
   ]
  },
  {
   "cell_type": "code",
   "execution_count": 3,
   "metadata": {},
   "outputs": [],
   "source": [
    "\n",
    "#Approx 80% images to train_images\n",
    "fnames = ['img_{}.jpg'.format(i) for i in range(1,1000)]\n",
    "for fname in fnames:\n",
    "    src = os.path.join(original_dataset_dir, fname)\n",
    "    dst = os.path.join(train_images, fname)\n",
    "    shutil.copyfile(src,dst)\n"
   ]
  },
  {
   "cell_type": "code",
   "execution_count": 4,
   "metadata": {},
   "outputs": [],
   "source": [
    "# Remaining 50% images to test_images\n",
    "fnames = ['img_{}.jpg'.format(i) for i in range(1001, 1025)]\n",
    "for fname in fnames:\n",
    "    src = os.path.join(original_dataset_dir, fname)\n",
    "    dst = os.path.join(test_images, fname)\n",
    "    shutil.copyfile(src, dst)"
   ]
  },
  {
   "cell_type": "code",
   "execution_count": 5,
   "metadata": {},
   "outputs": [],
   "source": [
    "# remaining images to validate_images\n",
    "fnames = ['img_{}.jpg'.format(i) for i in range(1025, 1449)]\n",
    "for fname in fnames:\n",
    "    src = os.path.join(original_dataset_dir, fname)\n",
    "    dst = os.path.join(validate_images, fname)\n",
    "    shutil.copyfile(src, dst)"
   ]
  },
  {
   "cell_type": "code",
   "execution_count": 6,
   "metadata": {},
   "outputs": [],
   "source": [
    "#the directory where we have our depth images as labels\n",
    "ground_truth_dir = '/Users/Enigma/Desktop/Thesis/Depth_Estimation/depth'\n",
    "\n",
    "#the directory where we want to store the split dataset\n",
    "label_base_dir = '/Users/Enigma/Desktop/Thesis/Depth_Estimation/Labels'\n",
    "os.mkdir(label_base_dir)\n",
    "\n",
    "#Directories for our train, test and validation splits\n",
    "train_label_dir = os.path.join(label_base_dir, 'train')\n",
    "os.mkdir(train_label_dir)\n",
    "\n",
    "test_label_dir = os.path.join(label_base_dir, 'test')\n",
    "os.mkdir(test_label_dir)\n",
    "\n",
    "validation_label_dir = os.path.join(label_base_dir, 'validation')\n",
    "os.mkdir(validation_label_dir)\n",
    "\n",
    "#directories with our training images\n",
    "training_labels = os.path.join(train_label_dir,'train_labels')\n",
    "os.mkdir(training_labels)\n",
    "\n",
    "#directories for our testing images\n",
    "testing_labels = os.path.join(test_label_dir,'test_labels')\n",
    "os.mkdir(testing_labels)\n",
    "\n",
    "#directories for our validation images\n",
    "validation_labels = os.path.join(validation_label_dir,'validate_labels')\n",
    "os.mkdir(validation_labels)\n"
   ]
  },
  {
   "cell_type": "code",
   "execution_count": 7,
   "metadata": {},
   "outputs": [],
   "source": [
    "#Approx 80% images to train_images\n",
    "fnames = ['img_{}.jpg'.format(i) for i in range(1,1000)]\n",
    "for fname in fnames:\n",
    "    src = os.path.join(ground_truth_dir, fname)\n",
    "    dst = os.path.join(training_labels, fname)\n",
    "    shutil.copyfile(src,dst)\n"
   ]
  },
  {
   "cell_type": "code",
   "execution_count": 8,
   "metadata": {},
   "outputs": [],
   "source": [
    "# Remaining 50% images to test_images\n",
    "fnames = ['img_{}.jpg'.format(i) for i in range(1001, 1025)]\n",
    "for fname in fnames:\n",
    "    src = os.path.join(ground_truth_dir, fname)\n",
    "    dst = os.path.join(testing_labels, fname)\n",
    "    shutil.copyfile(src, dst)"
   ]
  },
  {
   "cell_type": "code",
   "execution_count": 9,
   "metadata": {},
   "outputs": [],
   "source": [
    "# remaining images to validate_images\n",
    "fnames = ['img_{}.jpg'.format(i) for i in range(1025, 1449)]\n",
    "for fname in fnames:\n",
    "    src = os.path.join(ground_truth_dir, fname)\n",
    "    dst = os.path.join(validation_labels, fname)\n",
    "    shutil.copyfile(src, dst)"
   ]
  }
 ],
 "metadata": {
  "kernelspec": {
   "display_name": "Python 3",
   "language": "python",
   "name": "python3"
  },
  "language_info": {
   "codemirror_mode": {
    "name": "ipython",
    "version": 3
   },
   "file_extension": ".py",
   "mimetype": "text/x-python",
   "name": "python",
   "nbconvert_exporter": "python",
   "pygments_lexer": "ipython3",
   "version": "3.7.7"
  }
 },
 "nbformat": 4,
 "nbformat_minor": 4
}

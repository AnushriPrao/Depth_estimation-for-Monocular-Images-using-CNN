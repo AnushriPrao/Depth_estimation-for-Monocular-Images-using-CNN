{
 "cells": [
  {
   "cell_type": "code",
   "execution_count": 4,
   "metadata": {},
   "outputs": [],
   "source": [
    "import os\n",
    "# Function to rename multiple files\n",
    "def main():\n",
    "   i = 1\n",
    "   path=\"/Users/Enigma/Desktop/Thesis/Depth_Estimation/depth/\"\n",
    "   for filename in os.listdir(path):\n",
    "      my_dest =\"img_\" + str(i) + \".jpg\"\n",
    "      my_source =path + filename\n",
    "      my_dest =path + my_dest\n",
    "      # rename() function will\n",
    "      # rename all the files\n",
    "      os.rename(my_source, my_dest)\n",
    "      i += 1\n",
    "# Driver Code\n",
    "if __name__ == '__main__':\n",
    "   # Calling main() function\n",
    "   main()"
   ]
  },
  {
   "cell_type": "code",
   "execution_count": null,
   "metadata": {},
   "outputs": [],
   "source": []
  },
  {
   "cell_type": "code",
   "execution_count": null,
   "metadata": {},
   "outputs": [],
   "source": []
  }
 ],
 "metadata": {
  "kernelspec": {
   "display_name": "Python 3",
   "language": "python",
   "name": "python3"
  },
  "language_info": {
   "codemirror_mode": {
    "name": "ipython",
    "version": 3
   },
   "file_extension": ".py",
   "mimetype": "text/x-python",
   "name": "python",
   "nbconvert_exporter": "python",
   "pygments_lexer": "ipython3",
   "version": "3.7.7"
  }
 },
 "nbformat": 4,
 "nbformat_minor": 4
}

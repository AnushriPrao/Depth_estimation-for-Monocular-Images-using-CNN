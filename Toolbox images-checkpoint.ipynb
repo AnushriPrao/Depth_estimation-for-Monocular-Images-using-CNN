{
 "cells": [
  {
   "cell_type": "code",
   "execution_count": 7,
   "metadata": {},
   "outputs": [
    {
     "name": "stdout",
     "output_type": "stream",
     "text": [
      "Requirement already satisfied: wget in c:\\users\\enigma\\anaconda3\\lib\\site-packages (3.2)\n",
      "Note: you may need to restart the kernel to use updated packages.\n"
     ]
    }
   ],
   "source": [
    "pip install wget"
   ]
  },
  {
   "cell_type": "code",
   "execution_count": 2,
   "metadata": {},
   "outputs": [],
   "source": [
    "import numpy\n",
    "import matplotlib.pyplot as plt\n",
    "import os.path\n",
    "import wget\n",
    "import numpy as np\n",
    "\n",
    "#from labeled import LabeledDataset\n",
    "from PIL import Image\n",
    "from matplotlib.pyplot import imshow\n",
    "from matplotlib.pyplot import cm"
   ]
  },
  {
   "cell_type": "code",
   "execution_count": 3,
   "metadata": {
    "scrolled": true
   },
   "outputs": [
    {
     "name": "stdout",
     "output_type": "stream",
     "text": [
      "Download Dataset\n",
      "100% [....................................................................] 2971894459 / 2971894459Download Dataset\n",
      "100% [................................................................................] 1158 / 1158"
     ]
    }
   ],
   "source": [
    "# Dataset\n",
    "filename = \"nyu_depth_v2_labeled.mat\"\n",
    "if os.path.isfile(filename):\n",
    "    print (\"Dataset OK\")\n",
    "else:\n",
    "    print('Download Dataset')\n",
    "    wget.download('http://horatio.cs.nyu.edu/mit/silberman/nyu_depth_v2/nyu_depth_v2_labeled.mat', filename)\n",
    "# Toolbox\n",
    "filename = \"labeled.py\"\n",
    "if os.path.isfile(filename):\n",
    "    print (\"Toolbox OK\")\n",
    "else:\n",
    "    print('Download Dataset')\n",
    "    wget.download('https://raw.githubusercontent.com/GabrielMajeri/nyuv2-python-toolbox/master/nyuv2/labeled.py', filename)"
   ]
  },
  {
   "cell_type": "code",
   "execution_count": 6,
   "metadata": {},
   "outputs": [
    {
     "data": {
      "text/plain": [
       "(0.5, 0.0, 0.0, 1.0)"
      ]
     },
     "execution_count": 6,
     "metadata": {},
     "output_type": "execute_result"
    },
    {
     "data": {
      "image/png": "[encoded data removed]",
      "text/plain": [
       "<Figure size 432x288 with 1 Axes>"
      ]
     },
     "metadata": {
      "needs_background": "light"
     },
     "output_type": "display_data"
    }
   ],
   "source": [
    " # Testing Colorschema\n",
    "imshow(np.random.rand(10,10))\n",
    "cm.jet(255)"
   ]
  },
  {
   "cell_type": "code",
   "execution_count": 8,
   "metadata": {},
   "outputs": [],
   "source": [
    "from labeled import LabeledDataset\n",
    "\n",
    "ds = LabeledDataset(\"nyu_depth_v2_labeled.mat\")"
   ]
  },
  {
   "cell_type": "code",
   "execution_count": 11,
   "metadata": {},
   "outputs": [],
   "source": [
    "test = range(10)\n",
    "alll = range(len(ds))\n",
    "for i in test:\n",
    "    colorImage, depthImage = ds[i]\n",
    "    \n",
    "    # save rgb\n",
    "    colorImage.save(\"C:/Users/Enigma/Desktop/Files/Upcoming/Datasets\" + str(i) + \"_rgb.png\")\n",
    "    \n",
    "    # generate depth\n",
    "    pixels = numpy.array(depthImage)\n",
    "    pixels = pixels.astype('float32')\n",
    "    \n",
    "    # dynamic minmax\n",
    "    minimum = numpy.array(depthImage).min()\n",
    "    maximum = numpy.array(depthImage).max()\n",
    "    \n",
    "    # fixed minmax (makes sence because then 1m depth is same color in every picture)\n",
    "    minimum = 0\n",
    "    maximum = 15\n",
    "    \n",
    "    ## a colormap and a normalization instance \n",
    "    # https://matplotlib.org/examples/color/colormaps_reference.html\n",
    "    cmap = plt.cm.jet\n",
    "    #cmap = plt.cm.nipy_spectral\n",
    "    #cmap = plt.cm.Greys\n",
    "    #cmap = plt.cm.summer\n",
    "    #cmap = plt.cm.tab20\n",
    "    #cmap = plt.cm.gnuplot\n",
    "    #cmap = plt.cm.gnuplot2\n",
    "    norm = plt.Normalize(vmin=minimum, vmax=maximum)\n",
    "\n",
    "    ## map the normalized data to colors\n",
    "    ## image is now RGBA (512x512x4) \n",
    "    image = cmap(norm(pixels))\n",
    "    plt.imsave(\"C:/Users/Enigma/Desktop/Files/Upcoming/Datasets\" + str(i) + \"_depth.png\", image)\n",
    "    \n",
    "    \n",
    "    continue\n",
    "    \n",
    "    # Project Pixelvalues to scale of 0 to 255 and save\n",
    "    pixels = (pixels - minimum) / (maximum - minimum) * 255\n",
    "    Image.fromarray(pixels, 'L').save(\"C:/Users/Enigma/Desktop/Files/Upcoming/Datasets\" + str(i) + \"_depth.png\")\n",
    "    "
   ]
  },
  {
   "cell_type": "code",
   "execution_count": null,
   "metadata": {},
   "outputs": [],
   "source": []
  }
 ],
 "metadata": {
  "kernelspec": {
   "display_name": "Python 3",
   "language": "python",
   "name": "python3"
  },
  "language_info": {
   "codemirror_mode": {
    "name": "ipython",
    "version": 3
   },
   "file_extension": ".py",
   "mimetype": "text/x-python",
   "name": "python",
   "nbconvert_exporter": "python",
   "pygments_lexer": "ipython3",
   "version": "3.7.7"
  }
 },
 "nbformat": 4,
 "nbformat_minor": 2
}
